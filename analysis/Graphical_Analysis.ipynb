{
 "cells": [
  {
   "cell_type": "markdown",
   "metadata": {
    "collapsed": true,
    "pycharm": {
     "name": "#%% md\n"
    }
   },
   "source": [
    "# GRAPHICAL ANALYSIS OF THE TeFE MODEL"
   ]
  },
  {
   "cell_type": "markdown",
   "source": [
    "## Prepping up"
   ],
   "metadata": {
    "collapsed": false,
    "pycharm": {
     "name": "#%% md\n"
    }
   }
  },
  {
   "cell_type": "code",
   "execution_count": 1,
   "outputs": [],
   "source": [
    "import pandas as pd\n",
    "import numpy as np\n",
    "import csv"
   ],
   "metadata": {
    "collapsed": false,
    "pycharm": {
     "name": "#%%\n"
    }
   }
  },
  {
   "cell_type": "code",
   "execution_count": 8,
   "outputs": [],
   "source": [
    "mix_df = pd.read_csv('mix_test.csv')\n",
    "agents_df = pd.read_csv('agents_test.csv')\n",
    "contracts_df = pd.read_csv('contracts_test.csv')\n",
    "technologic_df = pd.read_csv('technologic_test.csv')"
   ],
   "metadata": {
    "collapsed": false,
    "pycharm": {
     "name": "#%%\n"
    }
   }
  },
  {
   "cell_type": "code",
   "execution_count": 11,
   "outputs": [
    {
     "name": "stdout",
     "output_type": "stream",
     "text": [
      "lines,  1119\n",
      "columns,  39\n"
     ]
    },
    {
     "data": {
      "text/plain": "   seed_name  period     BB       CAPEX    CF    EP  Lumps  MW      MWh  \\\n0          2      45  BNDES  60000000.0  0.29  EP_0    3.0  20  12528.0   \n1          2      46  BNDES  60000000.0  0.29  EP_0    3.0  20  12528.0   \n2          2      47  BNDES  60000000.0  0.29  EP_0    3.0  20  12528.0   \n3          2      48  BNDES  60000000.0  0.29  EP_0    3.0  20  12528.0   \n4          2      49  BNDES  60000000.0  0.29  EP_0    3.0  20  12528.0   \n\n          OPEX  ...      price     principal  receiver  retirement  risk  \\\n0  8666.799397  ...  15.394861  6.072397e+07      EP_0         405     0   \n1  8666.799397  ...  15.394861  6.072397e+07      EP_0         405     0   \n2  8666.799397  ...  15.394861  6.072397e+07      EP_0         405     0   \n3  8666.799397  ...  15.394861  6.072397e+07      EP_0         405     0   \n4  8666.799397  ...  15.394861  6.072397e+07      EP_0         405     0   \n\n   sender  source source_name      status  transport  \n0   BNDES       1       solar  contracted       True  \n1   BNDES       1       solar  contracted       True  \n2   BNDES       1       solar  contracted       True  \n3   BNDES       1       solar  contracted       True  \n4   BNDES       1       solar  contracted       True  \n\n[5 rows x 39 columns]",
      "text/html": "<div>\n<style scoped>\n    .dataframe tbody tr th:only-of-type {\n        vertical-align: middle;\n    }\n\n    .dataframe tbody tr th {\n        vertical-align: top;\n    }\n\n    .dataframe thead th {\n        text-align: right;\n    }\n</style>\n<table border=\"1\" class=\"dataframe\">\n  <thead>\n    <tr style=\"text-align: right;\">\n      <th></th>\n      <th>seed_name</th>\n      <th>period</th>\n      <th>BB</th>\n      <th>CAPEX</th>\n      <th>CF</th>\n      <th>EP</th>\n      <th>Lumps</th>\n      <th>MW</th>\n      <th>MWh</th>\n      <th>OPEX</th>\n      <th>...</th>\n      <th>price</th>\n      <th>principal</th>\n      <th>receiver</th>\n      <th>retirement</th>\n      <th>risk</th>\n      <th>sender</th>\n      <th>source</th>\n      <th>source_name</th>\n      <th>status</th>\n      <th>transport</th>\n    </tr>\n  </thead>\n  <tbody>\n    <tr>\n      <th>0</th>\n      <td>2</td>\n      <td>45</td>\n      <td>BNDES</td>\n      <td>60000000.0</td>\n      <td>0.29</td>\n      <td>EP_0</td>\n      <td>3.0</td>\n      <td>20</td>\n      <td>12528.0</td>\n      <td>8666.799397</td>\n      <td>...</td>\n      <td>15.394861</td>\n      <td>6.072397e+07</td>\n      <td>EP_0</td>\n      <td>405</td>\n      <td>0</td>\n      <td>BNDES</td>\n      <td>1</td>\n      <td>solar</td>\n      <td>contracted</td>\n      <td>True</td>\n    </tr>\n    <tr>\n      <th>1</th>\n      <td>2</td>\n      <td>46</td>\n      <td>BNDES</td>\n      <td>60000000.0</td>\n      <td>0.29</td>\n      <td>EP_0</td>\n      <td>3.0</td>\n      <td>20</td>\n      <td>12528.0</td>\n      <td>8666.799397</td>\n      <td>...</td>\n      <td>15.394861</td>\n      <td>6.072397e+07</td>\n      <td>EP_0</td>\n      <td>405</td>\n      <td>0</td>\n      <td>BNDES</td>\n      <td>1</td>\n      <td>solar</td>\n      <td>contracted</td>\n      <td>True</td>\n    </tr>\n    <tr>\n      <th>2</th>\n      <td>2</td>\n      <td>47</td>\n      <td>BNDES</td>\n      <td>60000000.0</td>\n      <td>0.29</td>\n      <td>EP_0</td>\n      <td>3.0</td>\n      <td>20</td>\n      <td>12528.0</td>\n      <td>8666.799397</td>\n      <td>...</td>\n      <td>15.394861</td>\n      <td>6.072397e+07</td>\n      <td>EP_0</td>\n      <td>405</td>\n      <td>0</td>\n      <td>BNDES</td>\n      <td>1</td>\n      <td>solar</td>\n      <td>contracted</td>\n      <td>True</td>\n    </tr>\n    <tr>\n      <th>3</th>\n      <td>2</td>\n      <td>48</td>\n      <td>BNDES</td>\n      <td>60000000.0</td>\n      <td>0.29</td>\n      <td>EP_0</td>\n      <td>3.0</td>\n      <td>20</td>\n      <td>12528.0</td>\n      <td>8666.799397</td>\n      <td>...</td>\n      <td>15.394861</td>\n      <td>6.072397e+07</td>\n      <td>EP_0</td>\n      <td>405</td>\n      <td>0</td>\n      <td>BNDES</td>\n      <td>1</td>\n      <td>solar</td>\n      <td>contracted</td>\n      <td>True</td>\n    </tr>\n    <tr>\n      <th>4</th>\n      <td>2</td>\n      <td>49</td>\n      <td>BNDES</td>\n      <td>60000000.0</td>\n      <td>0.29</td>\n      <td>EP_0</td>\n      <td>3.0</td>\n      <td>20</td>\n      <td>12528.0</td>\n      <td>8666.799397</td>\n      <td>...</td>\n      <td>15.394861</td>\n      <td>6.072397e+07</td>\n      <td>EP_0</td>\n      <td>405</td>\n      <td>0</td>\n      <td>BNDES</td>\n      <td>1</td>\n      <td>solar</td>\n      <td>contracted</td>\n      <td>True</td>\n    </tr>\n  </tbody>\n</table>\n<p>5 rows × 39 columns</p>\n</div>"
     },
     "execution_count": 11,
     "metadata": {},
     "output_type": "execute_result"
    }
   ],
   "source": [
    "print('lines, ', mix_df.shape[0])\n",
    "print('columns, ', mix_df.shape[1])\n",
    "mix_df.head()"
   ],
   "metadata": {
    "collapsed": false,
    "pycharm": {
     "name": "#%%\n"
    }
   }
  },
  {
   "cell_type": "code",
   "execution_count": 13,
   "outputs": [
    {
     "name": "stdout",
     "output_type": "stream",
     "text": [
      "lines,  34719\n",
      "columns,  64\n"
     ]
    },
    {
     "data": {
      "text/plain": "   period  name genre       wallet  capacity  \\\n0       0  TP_0    TP    1000000.0  520000.0   \n1       0  TP_1    TP     900000.0   20000.0   \n2       0  EP_0    EP  150000000.0       NaN   \n3       0  EP_1    EP  150000000.0       NaN   \n4       0  EP_2    EP  150000000.0       NaN   \n\n                                          Technology  profits  RnD_threshold  \\\n0  {'name': 'TP_wind', 'green': True, 'source': 1...      0.0       4.000000   \n1  {'name': 'TP_1', 'green': True, 'source': 2, '...      0.0  604498.841746   \n2                                                NaN      0.0            NaN   \n3                                                NaN      0.0            NaN   \n4                                                NaN      0.0            NaN   \n\n      RandD  capacity_threshold  ...  index_per_source auction_capacity  \\\n0       0.0                 3.0  ...               NaN              NaN   \n1  630000.0                 3.0  ...               NaN              NaN   \n2       NaN                 NaN  ...               NaN              NaN   \n3       NaN                 NaN  ...               NaN              NaN   \n4       NaN                 NaN  ...               NaN              NaN   \n\n  profits0 profits1 profits2 seed_name Demand Remaining_demand  \\\n0      NaN      NaN      NaN         0    NaN              NaN   \n1      NaN      NaN      NaN         0    NaN              NaN   \n2      NaN      NaN      NaN         0    NaN              NaN   \n3      NaN      NaN      NaN         0    NaN              NaN   \n4      NaN      NaN      NaN         0    NaN              NaN   \n\n  Demand_by_source Price  \n0              NaN   NaN  \n1              NaN   NaN  \n2              NaN   NaN  \n3              NaN   NaN  \n4              NaN   NaN  \n\n[5 rows x 64 columns]",
      "text/html": "<div>\n<style scoped>\n    .dataframe tbody tr th:only-of-type {\n        vertical-align: middle;\n    }\n\n    .dataframe tbody tr th {\n        vertical-align: top;\n    }\n\n    .dataframe thead th {\n        text-align: right;\n    }\n</style>\n<table border=\"1\" class=\"dataframe\">\n  <thead>\n    <tr style=\"text-align: right;\">\n      <th></th>\n      <th>period</th>\n      <th>name</th>\n      <th>genre</th>\n      <th>wallet</th>\n      <th>capacity</th>\n      <th>Technology</th>\n      <th>profits</th>\n      <th>RnD_threshold</th>\n      <th>RandD</th>\n      <th>capacity_threshold</th>\n      <th>...</th>\n      <th>index_per_source</th>\n      <th>auction_capacity</th>\n      <th>profits0</th>\n      <th>profits1</th>\n      <th>profits2</th>\n      <th>seed_name</th>\n      <th>Demand</th>\n      <th>Remaining_demand</th>\n      <th>Demand_by_source</th>\n      <th>Price</th>\n    </tr>\n  </thead>\n  <tbody>\n    <tr>\n      <th>0</th>\n      <td>0</td>\n      <td>TP_0</td>\n      <td>TP</td>\n      <td>1000000.0</td>\n      <td>520000.0</td>\n      <td>{'name': 'TP_wind', 'green': True, 'source': 1...</td>\n      <td>0.0</td>\n      <td>4.000000</td>\n      <td>0.0</td>\n      <td>3.0</td>\n      <td>...</td>\n      <td>NaN</td>\n      <td>NaN</td>\n      <td>NaN</td>\n      <td>NaN</td>\n      <td>NaN</td>\n      <td>0</td>\n      <td>NaN</td>\n      <td>NaN</td>\n      <td>NaN</td>\n      <td>NaN</td>\n    </tr>\n    <tr>\n      <th>1</th>\n      <td>0</td>\n      <td>TP_1</td>\n      <td>TP</td>\n      <td>900000.0</td>\n      <td>20000.0</td>\n      <td>{'name': 'TP_1', 'green': True, 'source': 2, '...</td>\n      <td>0.0</td>\n      <td>604498.841746</td>\n      <td>630000.0</td>\n      <td>3.0</td>\n      <td>...</td>\n      <td>NaN</td>\n      <td>NaN</td>\n      <td>NaN</td>\n      <td>NaN</td>\n      <td>NaN</td>\n      <td>0</td>\n      <td>NaN</td>\n      <td>NaN</td>\n      <td>NaN</td>\n      <td>NaN</td>\n    </tr>\n    <tr>\n      <th>2</th>\n      <td>0</td>\n      <td>EP_0</td>\n      <td>EP</td>\n      <td>150000000.0</td>\n      <td>NaN</td>\n      <td>NaN</td>\n      <td>0.0</td>\n      <td>NaN</td>\n      <td>NaN</td>\n      <td>NaN</td>\n      <td>...</td>\n      <td>NaN</td>\n      <td>NaN</td>\n      <td>NaN</td>\n      <td>NaN</td>\n      <td>NaN</td>\n      <td>0</td>\n      <td>NaN</td>\n      <td>NaN</td>\n      <td>NaN</td>\n      <td>NaN</td>\n    </tr>\n    <tr>\n      <th>3</th>\n      <td>0</td>\n      <td>EP_1</td>\n      <td>EP</td>\n      <td>150000000.0</td>\n      <td>NaN</td>\n      <td>NaN</td>\n      <td>0.0</td>\n      <td>NaN</td>\n      <td>NaN</td>\n      <td>NaN</td>\n      <td>...</td>\n      <td>NaN</td>\n      <td>NaN</td>\n      <td>NaN</td>\n      <td>NaN</td>\n      <td>NaN</td>\n      <td>0</td>\n      <td>NaN</td>\n      <td>NaN</td>\n      <td>NaN</td>\n      <td>NaN</td>\n    </tr>\n    <tr>\n      <th>4</th>\n      <td>0</td>\n      <td>EP_2</td>\n      <td>EP</td>\n      <td>150000000.0</td>\n      <td>NaN</td>\n      <td>NaN</td>\n      <td>0.0</td>\n      <td>NaN</td>\n      <td>NaN</td>\n      <td>NaN</td>\n      <td>...</td>\n      <td>NaN</td>\n      <td>NaN</td>\n      <td>NaN</td>\n      <td>NaN</td>\n      <td>NaN</td>\n      <td>0</td>\n      <td>NaN</td>\n      <td>NaN</td>\n      <td>NaN</td>\n      <td>NaN</td>\n    </tr>\n  </tbody>\n</table>\n<p>5 rows × 64 columns</p>\n</div>"
     },
     "execution_count": 13,
     "metadata": {},
     "output_type": "execute_result"
    }
   ],
   "source": [
    "print('lines, ', agents_df.shape[0])\n",
    "print('columns, ', agents_df.shape[1])\n",
    "agents_df.head()"
   ],
   "metadata": {
    "collapsed": false,
    "pycharm": {
     "name": "#%%\n"
    }
   }
  },
  {
   "cell_type": "code",
   "execution_count": 14,
   "outputs": [
    {
     "name": "stdout",
     "output_type": "stream",
     "text": [
      "lines,  6404\n",
      "columns,  43\n"
     ]
    },
    {
     "data": {
      "text/plain": "   period sender receiver   status    bound         value name green  source  \\\n0       2    TPM     TP_1  payment  unbound  1.000000e+10  NaN   NaN     NaN   \n1       2    TPM     TP_1  payment  unbound  1.000000e+10  NaN   NaN     NaN   \n2       3    TPM     TP_1  payment    green  3.500000e+09  NaN   NaN     NaN   \n3       3    TPM     TP_1  payment    green  3.500000e+09  NaN   NaN     NaN   \n4       4    TPM     TP_1  payment    green  1.750000e+09  NaN   NaN     NaN   \n\n  source_name  ...  price_expiration  limit seed_name ammortisation  risk  \\\n0         NaN  ...               NaN    NaN         0           NaN   NaN   \n1         NaN  ...               NaN    NaN         0           NaN   NaN   \n2         NaN  ...               NaN    NaN         0           NaN   NaN   \n3         NaN  ...               NaN    NaN         0           NaN   NaN   \n4         NaN  ...               NaN    NaN         0           NaN   NaN   \n\n   principal   EP   BB  completion  retirement  \n0        NaN  NaN  NaN         NaN         NaN  \n1        NaN  NaN  NaN         NaN         NaN  \n2        NaN  NaN  NaN         NaN         NaN  \n3        NaN  NaN  NaN         NaN         NaN  \n4        NaN  NaN  NaN         NaN         NaN  \n\n[5 rows x 43 columns]",
      "text/html": "<div>\n<style scoped>\n    .dataframe tbody tr th:only-of-type {\n        vertical-align: middle;\n    }\n\n    .dataframe tbody tr th {\n        vertical-align: top;\n    }\n\n    .dataframe thead th {\n        text-align: right;\n    }\n</style>\n<table border=\"1\" class=\"dataframe\">\n  <thead>\n    <tr style=\"text-align: right;\">\n      <th></th>\n      <th>period</th>\n      <th>sender</th>\n      <th>receiver</th>\n      <th>status</th>\n      <th>bound</th>\n      <th>value</th>\n      <th>name</th>\n      <th>green</th>\n      <th>source</th>\n      <th>source_name</th>\n      <th>...</th>\n      <th>price_expiration</th>\n      <th>limit</th>\n      <th>seed_name</th>\n      <th>ammortisation</th>\n      <th>risk</th>\n      <th>principal</th>\n      <th>EP</th>\n      <th>BB</th>\n      <th>completion</th>\n      <th>retirement</th>\n    </tr>\n  </thead>\n  <tbody>\n    <tr>\n      <th>0</th>\n      <td>2</td>\n      <td>TPM</td>\n      <td>TP_1</td>\n      <td>payment</td>\n      <td>unbound</td>\n      <td>1.000000e+10</td>\n      <td>NaN</td>\n      <td>NaN</td>\n      <td>NaN</td>\n      <td>NaN</td>\n      <td>...</td>\n      <td>NaN</td>\n      <td>NaN</td>\n      <td>0</td>\n      <td>NaN</td>\n      <td>NaN</td>\n      <td>NaN</td>\n      <td>NaN</td>\n      <td>NaN</td>\n      <td>NaN</td>\n      <td>NaN</td>\n    </tr>\n    <tr>\n      <th>1</th>\n      <td>2</td>\n      <td>TPM</td>\n      <td>TP_1</td>\n      <td>payment</td>\n      <td>unbound</td>\n      <td>1.000000e+10</td>\n      <td>NaN</td>\n      <td>NaN</td>\n      <td>NaN</td>\n      <td>NaN</td>\n      <td>...</td>\n      <td>NaN</td>\n      <td>NaN</td>\n      <td>0</td>\n      <td>NaN</td>\n      <td>NaN</td>\n      <td>NaN</td>\n      <td>NaN</td>\n      <td>NaN</td>\n      <td>NaN</td>\n      <td>NaN</td>\n    </tr>\n    <tr>\n      <th>2</th>\n      <td>3</td>\n      <td>TPM</td>\n      <td>TP_1</td>\n      <td>payment</td>\n      <td>green</td>\n      <td>3.500000e+09</td>\n      <td>NaN</td>\n      <td>NaN</td>\n      <td>NaN</td>\n      <td>NaN</td>\n      <td>...</td>\n      <td>NaN</td>\n      <td>NaN</td>\n      <td>0</td>\n      <td>NaN</td>\n      <td>NaN</td>\n      <td>NaN</td>\n      <td>NaN</td>\n      <td>NaN</td>\n      <td>NaN</td>\n      <td>NaN</td>\n    </tr>\n    <tr>\n      <th>3</th>\n      <td>3</td>\n      <td>TPM</td>\n      <td>TP_1</td>\n      <td>payment</td>\n      <td>green</td>\n      <td>3.500000e+09</td>\n      <td>NaN</td>\n      <td>NaN</td>\n      <td>NaN</td>\n      <td>NaN</td>\n      <td>...</td>\n      <td>NaN</td>\n      <td>NaN</td>\n      <td>0</td>\n      <td>NaN</td>\n      <td>NaN</td>\n      <td>NaN</td>\n      <td>NaN</td>\n      <td>NaN</td>\n      <td>NaN</td>\n      <td>NaN</td>\n    </tr>\n    <tr>\n      <th>4</th>\n      <td>4</td>\n      <td>TPM</td>\n      <td>TP_1</td>\n      <td>payment</td>\n      <td>green</td>\n      <td>1.750000e+09</td>\n      <td>NaN</td>\n      <td>NaN</td>\n      <td>NaN</td>\n      <td>NaN</td>\n      <td>...</td>\n      <td>NaN</td>\n      <td>NaN</td>\n      <td>0</td>\n      <td>NaN</td>\n      <td>NaN</td>\n      <td>NaN</td>\n      <td>NaN</td>\n      <td>NaN</td>\n      <td>NaN</td>\n      <td>NaN</td>\n    </tr>\n  </tbody>\n</table>\n<p>5 rows × 43 columns</p>\n</div>"
     },
     "execution_count": 14,
     "metadata": {},
     "output_type": "execute_result"
    }
   ],
   "source": [
    "print('lines, ', contracts_df.shape[0])\n",
    "print('columns, ', contracts_df.shape[1])\n",
    "contracts_df.head()"
   ],
   "metadata": {
    "collapsed": false,
    "pycharm": {
     "name": "#%%\n"
    }
   }
  },
  {
   "cell_type": "code",
   "execution_count": 15,
   "outputs": [
    {
     "name": "stdout",
     "output_type": "stream",
     "text": [
      "lines,  12600\n",
      "columns,  19\n"
     ]
    },
    {
     "data": {
      "text/plain": "   period        name  green  source source_name      CAPEX          OPEX  \\\n0       0  TP_thermal  False       0     thermal  100000000  30000.000000   \n1       0     TP_wind   True       1       solar   20000000   2300.297196   \n2       0        TP_1   True       2       solar      10000    200.000000   \n3       1  TP_thermal  False       0     thermal  100000000  30000.000000   \n4       1     TP_wind   True       1       solar   20000000   2300.297196   \n\n   dispatchable  transport    CF     MW  lifetime  building_time  \\\n0          True      False  0.70  100.0       300             24   \n1          True       True  0.29   20.0       360             12   \n2          True       True  0.10    1.0       300              6   \n3          True      False  0.70  100.0       300             24   \n4          True       True  0.29   20.0       360             12   \n\n   last_radical_innovation  last_marginal_innovation  emissions  \\\n0                        0                         0       5000   \n1                        0                         8          0   \n2                        0                         4          0   \n3                        0                         0       5000   \n4                        0                         8          0   \n\n   avoided_emissions  base_CAPEX  seed_name  \n0              -5000         NaN          0  \n1                250  20000000.0          0  \n2                 50     10000.0          0  \n3              -5000         NaN          0  \n4                250  20000000.0          0  ",
      "text/html": "<div>\n<style scoped>\n    .dataframe tbody tr th:only-of-type {\n        vertical-align: middle;\n    }\n\n    .dataframe tbody tr th {\n        vertical-align: top;\n    }\n\n    .dataframe thead th {\n        text-align: right;\n    }\n</style>\n<table border=\"1\" class=\"dataframe\">\n  <thead>\n    <tr style=\"text-align: right;\">\n      <th></th>\n      <th>period</th>\n      <th>name</th>\n      <th>green</th>\n      <th>source</th>\n      <th>source_name</th>\n      <th>CAPEX</th>\n      <th>OPEX</th>\n      <th>dispatchable</th>\n      <th>transport</th>\n      <th>CF</th>\n      <th>MW</th>\n      <th>lifetime</th>\n      <th>building_time</th>\n      <th>last_radical_innovation</th>\n      <th>last_marginal_innovation</th>\n      <th>emissions</th>\n      <th>avoided_emissions</th>\n      <th>base_CAPEX</th>\n      <th>seed_name</th>\n    </tr>\n  </thead>\n  <tbody>\n    <tr>\n      <th>0</th>\n      <td>0</td>\n      <td>TP_thermal</td>\n      <td>False</td>\n      <td>0</td>\n      <td>thermal</td>\n      <td>100000000</td>\n      <td>30000.000000</td>\n      <td>True</td>\n      <td>False</td>\n      <td>0.70</td>\n      <td>100.0</td>\n      <td>300</td>\n      <td>24</td>\n      <td>0</td>\n      <td>0</td>\n      <td>5000</td>\n      <td>-5000</td>\n      <td>NaN</td>\n      <td>0</td>\n    </tr>\n    <tr>\n      <th>1</th>\n      <td>0</td>\n      <td>TP_wind</td>\n      <td>True</td>\n      <td>1</td>\n      <td>solar</td>\n      <td>20000000</td>\n      <td>2300.297196</td>\n      <td>True</td>\n      <td>True</td>\n      <td>0.29</td>\n      <td>20.0</td>\n      <td>360</td>\n      <td>12</td>\n      <td>0</td>\n      <td>8</td>\n      <td>0</td>\n      <td>250</td>\n      <td>20000000.0</td>\n      <td>0</td>\n    </tr>\n    <tr>\n      <th>2</th>\n      <td>0</td>\n      <td>TP_1</td>\n      <td>True</td>\n      <td>2</td>\n      <td>solar</td>\n      <td>10000</td>\n      <td>200.000000</td>\n      <td>True</td>\n      <td>True</td>\n      <td>0.10</td>\n      <td>1.0</td>\n      <td>300</td>\n      <td>6</td>\n      <td>0</td>\n      <td>4</td>\n      <td>0</td>\n      <td>50</td>\n      <td>10000.0</td>\n      <td>0</td>\n    </tr>\n    <tr>\n      <th>3</th>\n      <td>1</td>\n      <td>TP_thermal</td>\n      <td>False</td>\n      <td>0</td>\n      <td>thermal</td>\n      <td>100000000</td>\n      <td>30000.000000</td>\n      <td>True</td>\n      <td>False</td>\n      <td>0.70</td>\n      <td>100.0</td>\n      <td>300</td>\n      <td>24</td>\n      <td>0</td>\n      <td>0</td>\n      <td>5000</td>\n      <td>-5000</td>\n      <td>NaN</td>\n      <td>0</td>\n    </tr>\n    <tr>\n      <th>4</th>\n      <td>1</td>\n      <td>TP_wind</td>\n      <td>True</td>\n      <td>1</td>\n      <td>solar</td>\n      <td>20000000</td>\n      <td>2300.297196</td>\n      <td>True</td>\n      <td>True</td>\n      <td>0.29</td>\n      <td>20.0</td>\n      <td>360</td>\n      <td>12</td>\n      <td>0</td>\n      <td>8</td>\n      <td>0</td>\n      <td>250</td>\n      <td>20000000.0</td>\n      <td>0</td>\n    </tr>\n  </tbody>\n</table>\n</div>"
     },
     "execution_count": 15,
     "metadata": {},
     "output_type": "execute_result"
    }
   ],
   "source": [
    "print('lines, ', technologic_df.shape[0])\n",
    "print('columns, ', technologic_df.shape[1])\n",
    "technologic_df.head()"
   ],
   "metadata": {
    "collapsed": false,
    "pycharm": {
     "name": "#%%\n"
    }
   }
  },
  {
   "cell_type": "code",
   "execution_count": 5,
   "outputs": [
    {
     "data": {
      "text/plain": "['seed_name',\n 'period',\n 'BB',\n 'CAPEX',\n 'CF',\n 'EP',\n 'Lumps',\n 'MW',\n 'MWh',\n 'OPEX',\n 'TP',\n 'ammortisation',\n 'auction_contracted',\n 'avoided_emissions',\n 'base_CAPEX',\n 'building_time',\n 'capacity',\n 'code',\n 'completion',\n 'dispatchable',\n 'emissions',\n 'green',\n 'guarantee',\n 'last_marginal_innovation',\n 'last_radical_innovation',\n 'lifetime',\n 'name',\n 'old_CAPEX',\n 'old_OPEX',\n 'price',\n 'principal',\n 'receiver',\n 'retirement',\n 'risk',\n 'sender',\n 'source',\n 'source_name',\n 'status',\n 'transport']"
     },
     "execution_count": 5,
     "metadata": {},
     "output_type": "execute_result"
    }
   ],
   "source": [
    "columns = list(mix_df[:])\n",
    "columns"
   ],
   "metadata": {
    "collapsed": false,
    "pycharm": {
     "name": "#%%\n"
    }
   }
  },
  {
   "cell_type": "code",
   "execution_count": 6,
   "outputs": [
    {
     "data": {
      "text/plain": "        seed_name  period       CAPEX    CF  Lumps    MW      MWh  \\\nperiod                                                              \n21       5.000000    21.0  60000000.0  0.29    3.0  20.0  12528.0   \n22       5.000000    22.0  60000000.0  0.29    3.0  20.0  12528.0   \n23       5.000000    23.0  60000000.0  0.29    3.0  20.0  12528.0   \n24       5.000000    24.0  60000000.0  0.29    3.0  20.0  12528.0   \n25       5.000000    25.0  60000000.0  0.29    3.0  20.0  12528.0   \n...           ...     ...         ...   ...    ...   ...      ...   \n415      5.333333   415.0  60000000.0  0.29    3.0  20.0  12528.0   \n416      5.333333   416.0  60000000.0  0.29    3.0  20.0  12528.0   \n417      5.333333   417.0  60000000.0  0.29    3.0  20.0  12528.0   \n418      5.333333   418.0  60000000.0  0.29    3.0  20.0  12528.0   \n419      5.333333   419.0  60000000.0  0.29    3.0  20.0  12528.0   \n\n               OPEX  ammortisation  auction_contracted  ...  \\\nperiod                                                  ...   \n21      9000.000000          308.0                 0.0  ...   \n22      9000.000000          308.0                 0.0  ...   \n23      9000.000000          308.0                 0.0  ...   \n24      9000.000000          308.0                 0.0  ...   \n25      9000.000000          308.0                 0.0  ...   \n...             ...            ...                 ...  ...   \n415     8888.933132          334.0                 0.0  ...   \n416     8888.933132          334.0                 0.0  ...   \n417     8888.933132          334.0                 0.0  ...   \n418     8888.933132          334.0                 0.0  ...   \n419     8888.933132          334.0                 0.0  ...   \n\n        last_radical_innovation  lifetime   old_CAPEX     old_OPEX      price  \\\nperiod                                                                          \n21                          0.0     360.0  20000000.0  3000.000000  15.424117   \n22                          0.0     360.0  20000000.0  3000.000000  15.424117   \n23                          0.0     360.0  20000000.0  3000.000000  15.424117   \n24                          0.0     360.0  20000000.0  3000.000000  15.424117   \n25                          0.0     360.0  20000000.0  3000.000000  15.424117   \n...                         ...       ...         ...          ...        ...   \n415                         0.0     360.0  20000000.0  2962.977711  15.414365   \n416                         0.0     360.0  20000000.0  2962.977711  15.414365   \n417                         0.0     360.0  20000000.0  2962.977711  15.414365   \n418                         0.0     360.0  20000000.0  2962.977711  15.414365   \n419                         0.0     360.0  20000000.0  2962.977711  15.414365   \n\n           principal  retirement  risk  source  transport  \nperiod                                                     \n21      6.072397e+07       381.0   0.0     1.0        1.0  \n22      6.072397e+07       381.0   0.0     1.0        1.0  \n23      6.072397e+07       381.0   0.0     1.0        1.0  \n24      6.072397e+07       381.0   0.0     1.0        1.0  \n25      6.072397e+07       381.0   0.0     1.0        1.0  \n...              ...         ...   ...     ...        ...  \n415     6.072397e+07       407.0   0.0     1.0        1.0  \n416     6.072397e+07       407.0   0.0     1.0        1.0  \n417     6.072397e+07       407.0   0.0     1.0        1.0  \n418     6.072397e+07       407.0   0.0     1.0        1.0  \n419     6.072397e+07       407.0   0.0     1.0        1.0  \n\n[399 rows x 30 columns]",
      "text/html": "<div>\n<style scoped>\n    .dataframe tbody tr th:only-of-type {\n        vertical-align: middle;\n    }\n\n    .dataframe tbody tr th {\n        vertical-align: top;\n    }\n\n    .dataframe thead th {\n        text-align: right;\n    }\n</style>\n<table border=\"1\" class=\"dataframe\">\n  <thead>\n    <tr style=\"text-align: right;\">\n      <th></th>\n      <th>seed_name</th>\n      <th>period</th>\n      <th>CAPEX</th>\n      <th>CF</th>\n      <th>Lumps</th>\n      <th>MW</th>\n      <th>MWh</th>\n      <th>OPEX</th>\n      <th>ammortisation</th>\n      <th>auction_contracted</th>\n      <th>...</th>\n      <th>last_radical_innovation</th>\n      <th>lifetime</th>\n      <th>old_CAPEX</th>\n      <th>old_OPEX</th>\n      <th>price</th>\n      <th>principal</th>\n      <th>retirement</th>\n      <th>risk</th>\n      <th>source</th>\n      <th>transport</th>\n    </tr>\n    <tr>\n      <th>period</th>\n      <th></th>\n      <th></th>\n      <th></th>\n      <th></th>\n      <th></th>\n      <th></th>\n      <th></th>\n      <th></th>\n      <th></th>\n      <th></th>\n      <th></th>\n      <th></th>\n      <th></th>\n      <th></th>\n      <th></th>\n      <th></th>\n      <th></th>\n      <th></th>\n      <th></th>\n      <th></th>\n      <th></th>\n    </tr>\n  </thead>\n  <tbody>\n    <tr>\n      <th>21</th>\n      <td>5.000000</td>\n      <td>21.0</td>\n      <td>60000000.0</td>\n      <td>0.29</td>\n      <td>3.0</td>\n      <td>20.0</td>\n      <td>12528.0</td>\n      <td>9000.000000</td>\n      <td>308.0</td>\n      <td>0.0</td>\n      <td>...</td>\n      <td>0.0</td>\n      <td>360.0</td>\n      <td>20000000.0</td>\n      <td>3000.000000</td>\n      <td>15.424117</td>\n      <td>6.072397e+07</td>\n      <td>381.0</td>\n      <td>0.0</td>\n      <td>1.0</td>\n      <td>1.0</td>\n    </tr>\n    <tr>\n      <th>22</th>\n      <td>5.000000</td>\n      <td>22.0</td>\n      <td>60000000.0</td>\n      <td>0.29</td>\n      <td>3.0</td>\n      <td>20.0</td>\n      <td>12528.0</td>\n      <td>9000.000000</td>\n      <td>308.0</td>\n      <td>0.0</td>\n      <td>...</td>\n      <td>0.0</td>\n      <td>360.0</td>\n      <td>20000000.0</td>\n      <td>3000.000000</td>\n      <td>15.424117</td>\n      <td>6.072397e+07</td>\n      <td>381.0</td>\n      <td>0.0</td>\n      <td>1.0</td>\n      <td>1.0</td>\n    </tr>\n    <tr>\n      <th>23</th>\n      <td>5.000000</td>\n      <td>23.0</td>\n      <td>60000000.0</td>\n      <td>0.29</td>\n      <td>3.0</td>\n      <td>20.0</td>\n      <td>12528.0</td>\n      <td>9000.000000</td>\n      <td>308.0</td>\n      <td>0.0</td>\n      <td>...</td>\n      <td>0.0</td>\n      <td>360.0</td>\n      <td>20000000.0</td>\n      <td>3000.000000</td>\n      <td>15.424117</td>\n      <td>6.072397e+07</td>\n      <td>381.0</td>\n      <td>0.0</td>\n      <td>1.0</td>\n      <td>1.0</td>\n    </tr>\n    <tr>\n      <th>24</th>\n      <td>5.000000</td>\n      <td>24.0</td>\n      <td>60000000.0</td>\n      <td>0.29</td>\n      <td>3.0</td>\n      <td>20.0</td>\n      <td>12528.0</td>\n      <td>9000.000000</td>\n      <td>308.0</td>\n      <td>0.0</td>\n      <td>...</td>\n      <td>0.0</td>\n      <td>360.0</td>\n      <td>20000000.0</td>\n      <td>3000.000000</td>\n      <td>15.424117</td>\n      <td>6.072397e+07</td>\n      <td>381.0</td>\n      <td>0.0</td>\n      <td>1.0</td>\n      <td>1.0</td>\n    </tr>\n    <tr>\n      <th>25</th>\n      <td>5.000000</td>\n      <td>25.0</td>\n      <td>60000000.0</td>\n      <td>0.29</td>\n      <td>3.0</td>\n      <td>20.0</td>\n      <td>12528.0</td>\n      <td>9000.000000</td>\n      <td>308.0</td>\n      <td>0.0</td>\n      <td>...</td>\n      <td>0.0</td>\n      <td>360.0</td>\n      <td>20000000.0</td>\n      <td>3000.000000</td>\n      <td>15.424117</td>\n      <td>6.072397e+07</td>\n      <td>381.0</td>\n      <td>0.0</td>\n      <td>1.0</td>\n      <td>1.0</td>\n    </tr>\n    <tr>\n      <th>...</th>\n      <td>...</td>\n      <td>...</td>\n      <td>...</td>\n      <td>...</td>\n      <td>...</td>\n      <td>...</td>\n      <td>...</td>\n      <td>...</td>\n      <td>...</td>\n      <td>...</td>\n      <td>...</td>\n      <td>...</td>\n      <td>...</td>\n      <td>...</td>\n      <td>...</td>\n      <td>...</td>\n      <td>...</td>\n      <td>...</td>\n      <td>...</td>\n      <td>...</td>\n      <td>...</td>\n    </tr>\n    <tr>\n      <th>415</th>\n      <td>5.333333</td>\n      <td>415.0</td>\n      <td>60000000.0</td>\n      <td>0.29</td>\n      <td>3.0</td>\n      <td>20.0</td>\n      <td>12528.0</td>\n      <td>8888.933132</td>\n      <td>334.0</td>\n      <td>0.0</td>\n      <td>...</td>\n      <td>0.0</td>\n      <td>360.0</td>\n      <td>20000000.0</td>\n      <td>2962.977711</td>\n      <td>15.414365</td>\n      <td>6.072397e+07</td>\n      <td>407.0</td>\n      <td>0.0</td>\n      <td>1.0</td>\n      <td>1.0</td>\n    </tr>\n    <tr>\n      <th>416</th>\n      <td>5.333333</td>\n      <td>416.0</td>\n      <td>60000000.0</td>\n      <td>0.29</td>\n      <td>3.0</td>\n      <td>20.0</td>\n      <td>12528.0</td>\n      <td>8888.933132</td>\n      <td>334.0</td>\n      <td>0.0</td>\n      <td>...</td>\n      <td>0.0</td>\n      <td>360.0</td>\n      <td>20000000.0</td>\n      <td>2962.977711</td>\n      <td>15.414365</td>\n      <td>6.072397e+07</td>\n      <td>407.0</td>\n      <td>0.0</td>\n      <td>1.0</td>\n      <td>1.0</td>\n    </tr>\n    <tr>\n      <th>417</th>\n      <td>5.333333</td>\n      <td>417.0</td>\n      <td>60000000.0</td>\n      <td>0.29</td>\n      <td>3.0</td>\n      <td>20.0</td>\n      <td>12528.0</td>\n      <td>8888.933132</td>\n      <td>334.0</td>\n      <td>0.0</td>\n      <td>...</td>\n      <td>0.0</td>\n      <td>360.0</td>\n      <td>20000000.0</td>\n      <td>2962.977711</td>\n      <td>15.414365</td>\n      <td>6.072397e+07</td>\n      <td>407.0</td>\n      <td>0.0</td>\n      <td>1.0</td>\n      <td>1.0</td>\n    </tr>\n    <tr>\n      <th>418</th>\n      <td>5.333333</td>\n      <td>418.0</td>\n      <td>60000000.0</td>\n      <td>0.29</td>\n      <td>3.0</td>\n      <td>20.0</td>\n      <td>12528.0</td>\n      <td>8888.933132</td>\n      <td>334.0</td>\n      <td>0.0</td>\n      <td>...</td>\n      <td>0.0</td>\n      <td>360.0</td>\n      <td>20000000.0</td>\n      <td>2962.977711</td>\n      <td>15.414365</td>\n      <td>6.072397e+07</td>\n      <td>407.0</td>\n      <td>0.0</td>\n      <td>1.0</td>\n      <td>1.0</td>\n    </tr>\n    <tr>\n      <th>419</th>\n      <td>5.333333</td>\n      <td>419.0</td>\n      <td>60000000.0</td>\n      <td>0.29</td>\n      <td>3.0</td>\n      <td>20.0</td>\n      <td>12528.0</td>\n      <td>8888.933132</td>\n      <td>334.0</td>\n      <td>0.0</td>\n      <td>...</td>\n      <td>0.0</td>\n      <td>360.0</td>\n      <td>20000000.0</td>\n      <td>2962.977711</td>\n      <td>15.414365</td>\n      <td>6.072397e+07</td>\n      <td>407.0</td>\n      <td>0.0</td>\n      <td>1.0</td>\n      <td>1.0</td>\n    </tr>\n  </tbody>\n</table>\n<p>399 rows × 30 columns</p>\n</div>"
     },
     "execution_count": 6,
     "metadata": {},
     "output_type": "execute_result"
    }
   ],
   "source": [
    "mix_df.groupby([\"period\"])[columns].mean()"
   ],
   "metadata": {
    "collapsed": false,
    "pycharm": {
     "name": "#%%\n"
    }
   }
  },
  {
   "cell_type": "code",
   "execution_count": 7,
   "outputs": [
    {
     "data": {
      "text/plain": "        seed_name  period        CAPEX    CF  Lumps  MW      MWh  \\\nsource                                                             \n1              16    1077  180000000.0  0.87    9.0  60  37584.0   \n\n                OPEX  ammortisation  auction_contracted  ...  \\\nsource                                                   ...   \n1       26666.799397           1002                   0  ...   \n\n        last_radical_innovation  lifetime  old_CAPEX     old_OPEX      price  \\\nsource                                                                         \n1                             0      1080   60000000  8888.933132  46.243094   \n\n           principal  retirement  risk  source  transport  \nsource                                                     \n1       1.821719e+08        1221     0       3          3  \n\n[1 rows x 30 columns]",
      "text/html": "<div>\n<style scoped>\n    .dataframe tbody tr th:only-of-type {\n        vertical-align: middle;\n    }\n\n    .dataframe tbody tr th {\n        vertical-align: top;\n    }\n\n    .dataframe thead th {\n        text-align: right;\n    }\n</style>\n<table border=\"1\" class=\"dataframe\">\n  <thead>\n    <tr style=\"text-align: right;\">\n      <th></th>\n      <th>seed_name</th>\n      <th>period</th>\n      <th>CAPEX</th>\n      <th>CF</th>\n      <th>Lumps</th>\n      <th>MW</th>\n      <th>MWh</th>\n      <th>OPEX</th>\n      <th>ammortisation</th>\n      <th>auction_contracted</th>\n      <th>...</th>\n      <th>last_radical_innovation</th>\n      <th>lifetime</th>\n      <th>old_CAPEX</th>\n      <th>old_OPEX</th>\n      <th>price</th>\n      <th>principal</th>\n      <th>retirement</th>\n      <th>risk</th>\n      <th>source</th>\n      <th>transport</th>\n    </tr>\n    <tr>\n      <th>source</th>\n      <th></th>\n      <th></th>\n      <th></th>\n      <th></th>\n      <th></th>\n      <th></th>\n      <th></th>\n      <th></th>\n      <th></th>\n      <th></th>\n      <th></th>\n      <th></th>\n      <th></th>\n      <th></th>\n      <th></th>\n      <th></th>\n      <th></th>\n      <th></th>\n      <th></th>\n      <th></th>\n      <th></th>\n    </tr>\n  </thead>\n  <tbody>\n    <tr>\n      <th>1</th>\n      <td>16</td>\n      <td>1077</td>\n      <td>180000000.0</td>\n      <td>0.87</td>\n      <td>9.0</td>\n      <td>60</td>\n      <td>37584.0</td>\n      <td>26666.799397</td>\n      <td>1002</td>\n      <td>0</td>\n      <td>...</td>\n      <td>0</td>\n      <td>1080</td>\n      <td>60000000</td>\n      <td>8888.933132</td>\n      <td>46.243094</td>\n      <td>1.821719e+08</td>\n      <td>1221</td>\n      <td>0</td>\n      <td>3</td>\n      <td>3</td>\n    </tr>\n  </tbody>\n</table>\n<p>1 rows × 30 columns</p>\n</div>"
     },
     "execution_count": 7,
     "metadata": {},
     "output_type": "execute_result"
    }
   ],
   "source": [
    "mix_df[mix_df['period'] == 359].groupby([\"source\"])[columns].sum()"
   ],
   "metadata": {
    "collapsed": false,
    "pycharm": {
     "name": "#%%\n"
    }
   }
  },
  {
   "cell_type": "code",
   "execution_count": 7,
   "outputs": [],
   "source": [
    "age"
   ],
   "metadata": {
    "collapsed": false,
    "pycharm": {
     "name": "#%%\n"
    }
   }
  },
  {
   "cell_type": "code",
   "execution_count": 7,
   "outputs": [],
   "source": [],
   "metadata": {
    "collapsed": false,
    "pycharm": {
     "name": "#%%\n"
    }
   }
  },
  {
   "cell_type": "code",
   "execution_count": 7,
   "outputs": [],
   "source": [],
   "metadata": {
    "collapsed": false,
    "pycharm": {
     "name": "#%%\n"
    }
   }
  },
  {
   "cell_type": "code",
   "execution_count": 7,
   "outputs": [],
   "source": [],
   "metadata": {
    "collapsed": false,
    "pycharm": {
     "name": "#%%\n"
    }
   }
  },
  {
   "cell_type": "code",
   "execution_count": 7,
   "outputs": [],
   "source": [],
   "metadata": {
    "collapsed": false,
    "pycharm": {
     "name": "#%%\n"
    }
   }
  }
 ],
 "metadata": {
  "kernelspec": {
   "display_name": "Python 3",
   "language": "python",
   "name": "python3"
  },
  "language_info": {
   "codemirror_mode": {
    "name": "ipython",
    "version": 2
   },
   "file_extension": ".py",
   "mimetype": "text/x-python",
   "name": "python",
   "nbconvert_exporter": "python",
   "pygments_lexer": "ipython2",
   "version": "2.7.6"
  }
 },
 "nbformat": 4,
 "nbformat_minor": 0
}